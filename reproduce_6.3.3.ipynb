{
 "cells": [
  {
   "cell_type": "code",
   "execution_count": 1,
   "id": "1ed7a0c6",
   "metadata": {
    "execution": {
     "iopub.execute_input": "2025-08-09T20:58:27.460954Z",
     "iopub.status.busy": "2025-08-09T20:58:27.460610Z",
     "iopub.status.idle": "2025-08-09T20:58:28.397710Z",
     "shell.execute_reply": "2025-08-09T20:58:28.397471Z"
    }
   },
   "outputs": [
    {
     "name": "stdout",
     "output_type": "stream",
     "text": [
      "%pylab is deprecated, use %matplotlib inline and import the required libraries.\n",
      "Populating the interactive namespace from numpy and matplotlib\n"
     ]
    }
   ],
   "source": [
    "%pylab inline\n",
    "import xarray as xr\n",
    "import pandas as pd"
   ]
  },
  {
   "cell_type": "code",
   "execution_count": null,
   "id": "960edda7",
   "metadata": {
    "execution": {
     "iopub.execute_input": "2025-08-09T20:58:28.399215Z",
     "iopub.status.busy": "2025-08-09T20:58:28.399069Z",
     "iopub.status.idle": "2025-08-09T20:58:28.400930Z",
     "shell.execute_reply": "2025-08-09T20:58:28.400706Z"
    }
   },
   "outputs": [],
   "source": [
    "region = 'nh'\n",
    "\n",
    "variable = 'TMAX'\n",
    "file_path_hot = f'../processed_data/preprocessed_{region}_TMAX_data.nc'\n",
    "# file_path_hot = f'../processed_data/ushcn_replaced_{variable}_data.nc'\n",
    "\n",
    "variable = 'TMIN'\n",
    "file_path_cold = f'../processed_data/preprocessed_{region}_TMAX_data.nc'\n",
    "# file_path_cold = f'../processed_data/ushcn_replaced_{variable}_data.nc'"
   ]
  },
  {
   "cell_type": "code",
   "execution_count": 3,
   "id": "0b5cf163",
   "metadata": {
    "execution": {
     "iopub.execute_input": "2025-08-09T20:58:28.401988Z",
     "iopub.status.busy": "2025-08-09T20:58:28.401915Z",
     "iopub.status.idle": "2025-08-09T20:58:29.246945Z",
     "shell.execute_reply": "2025-08-09T20:58:29.246690Z"
    }
   },
   "outputs": [
    {
     "name": "stdout",
     "output_type": "stream",
     "text": [
      "Loading preprocessed TMIN data for US region from ../processed_data/preprocessed_us_TMAX_data.nc...\n"
     ]
    },
    {
     "name": "stdout",
     "output_type": "stream",
     "text": [
      "<xarray.Dataset> Size: 924MB\n",
      "Dimensions:      (time: 45534, latitude: 13, longitude: 30)\n",
      "Coordinates:\n",
      "  * longitude    (longitude) float32 120B -124.5 -122.5 -120.5 ... -68.5 -66.5\n",
      "  * latitude     (latitude) float32 52B 24.5 26.5 28.5 30.5 ... 44.5 46.5 48.5\n",
      "  * time         (time) datetime64[ns] 364kB 1900-01-01 ... 2024-08-31\n",
      "Data variables:\n",
      "    date_number  (time, latitude, longitude) float64 142MB ...\n",
      "    year         (time, latitude, longitude) float64 142MB ...\n",
      "    month        (time, latitude, longitude) float64 142MB ...\n",
      "    day          (time, latitude, longitude) float64 142MB ...\n",
      "    day_of_year  (time, latitude, longitude) float64 142MB ...\n",
      "    land_mask    (time, latitude, longitude) float64 142MB ...\n",
      "    temperature  (time, latitude, longitude) float32 71MB ...\n",
      "Attributes: (12/13)\n",
      "    Conventions:             Berkeley Earth Internal Convention (based on CF-...\n",
      "    title:                   Preprocessed US Temperature Data for EPA Figure ...\n",
      "    history:                 05-Nov-2024 00:42:15\n",
      "    institution:             Berkeley Earth Surface Temperature Project\n",
      "    source_history:          04-Nov-2024 18:20:30\n",
      "    comment:                 This file contains surface temperature anomaly f...\n",
      "    ...                      ...\n",
      "    time_range:              1931-01-01 to present\n",
      "    geographic_subset:       US region (24-50°N, -125 to -66°W)\n",
      "    data_reduction:          Every 2nd latitude and longitude point\n",
      "    temperature_conversion:  Anomalies converted to absolute temperatures usi...\n",
      "    created_by:              preprocess_data.py\n",
      "    region:                  US\n"
     ]
    }
   ],
   "source": [
    "print(f\"Loading preprocessed {variable} data for {region.upper()} region from {file_path_hot}...\")\n",
    "\n",
    "ds = xr.open_dataset(file_path_hot)\n",
    "\n",
    "print(ds)"
   ]
  },
  {
   "cell_type": "code",
   "execution_count": 4,
   "id": "300999f1",
   "metadata": {
    "execution": {
     "iopub.execute_input": "2025-08-09T20:58:29.248329Z",
     "iopub.status.busy": "2025-08-09T20:58:29.248141Z",
     "iopub.status.idle": "2025-08-09T20:59:41.271199Z",
     "shell.execute_reply": "2025-08-09T20:59:41.270902Z"
    }
   },
   "outputs": [
    {
     "name": "stdout",
     "output_type": "stream",
     "text": [
      "Creating data structure for warm season records...\n",
      "\n",
      "Warm season spans 154 days from May 1 to Oct. 31\n",
      "\n",
      "Processing each grid point...\n",
      "Processing latitude 1/13\n"
     ]
    },
    {
     "name": "stdout",
     "output_type": "stream",
     "text": [
      "Processing latitude 4/13\n"
     ]
    },
    {
     "name": "stdout",
     "output_type": "stream",
     "text": [
      "Processing latitude 7/13\n"
     ]
    },
    {
     "name": "stdout",
     "output_type": "stream",
     "text": [
      "Processing latitude 10/13\n"
     ]
    },
    {
     "name": "stdout",
     "output_type": "stream",
     "text": [
      "Processing latitude 13/13\n"
     ]
    },
    {
     "name": "stdout",
     "output_type": "stream",
     "text": [
      "\n",
      "Data structure created!\n",
      "<xarray.Dataset> Size: 962kB\n",
      "Dimensions:           (latitude: 13, longitude: 30, day: 154)\n",
      "Coordinates:\n",
      "  * latitude          (latitude) float32 52B 24.5 26.5 28.5 ... 44.5 46.5 48.5\n",
      "  * longitude         (longitude) float32 120B -124.5 -122.5 ... -68.5 -66.5\n",
      "  * day               (day) int32 616B 121 122 123 124 125 ... 271 272 273 274\n",
      "Data variables:\n",
      "    year_of_max_temp  (latitude, longitude, day) float64 480kB nan ... 2.02e+03\n",
      "    max_temp          (latitude, longitude, day) float64 480kB nan nan ... 22.99\n"
     ]
    }
   ],
   "source": [
    "# Create a new data structure for May 1 to Sept 30 records\n",
    "print(\"Creating data structure for warm season records...\")\n",
    "\n",
    "# First, create a mask for the warm season dates (May 1 to Sept 30)\n",
    "dates = pd.to_datetime(ds.time.values)\n",
    "warm_season_mask = (dates.month >= 5) & (dates.month <= 9)\n",
    "\n",
    "# Get the day of year for each date and create a mapping to 0-152 (153 days total)\n",
    "# May 1 = day 121, Sept 30 = day 273\n",
    "days_in_warm_season = dates[warm_season_mask].dayofyear\n",
    "unique_days = np.sort(np.unique(days_in_warm_season))\n",
    "print(f\"\\nWarm season spans {len(unique_days)} days from May 1 to Oct. 31\")\n",
    "\n",
    "# Create a new dataset to store the years of maximum temperature\n",
    "warm_season_records = xr.Dataset(\n",
    "    {\n",
    "        'year_of_max_temp': (('latitude', 'longitude', 'day'), \n",
    "                            np.full((len(ds.latitude), len(ds.longitude), len(unique_days)), np.nan)),\n",
    "        'max_temp': (('latitude', 'longitude', 'day'), \n",
    "                    np.full((len(ds.latitude), len(ds.longitude), len(unique_days)), np.nan))\n",
    "    },\n",
    "    coords={\n",
    "        'latitude': ds.latitude,\n",
    "        'longitude': ds.longitude,\n",
    "        'day': unique_days  # Using day of year as coordinate\n",
    "    }\n",
    ")\n",
    "\n",
    "print(\"\\nProcessing each grid point...\")\n",
    "# For each grid point\n",
    "for lat_idx in range(len(ds.latitude)):\n",
    "    if lat_idx % 3 == 0:  # Progress indicator\n",
    "        print(f\"Processing latitude {lat_idx+1}/{len(ds.latitude)}\")\n",
    "        \n",
    "    for lon_idx in range(len(ds.longitude)):\n",
    "        # Get temperature series for this location\n",
    "        temp_series = ds.temperature.isel(latitude=lat_idx, longitude=lon_idx)\n",
    "        year_series = ds.year.isel(latitude=lat_idx, longitude=lon_idx)\n",
    "        \n",
    "        # Skip if no valid data\n",
    "        if temp_series.isnull().all():\n",
    "            continue\n",
    "            \n",
    "        # For each day in the warm season\n",
    "        for day_idx, day in enumerate(unique_days):\n",
    "            # Get all temperatures for this day of year\n",
    "            day_mask = (dates.dayofyear == day) & warm_season_mask\n",
    "            day_temps = temp_series[day_mask]\n",
    "            day_years = year_series[day_mask]\n",
    "            \n",
    "            # Skip if no valid data for this day\n",
    "            if day_temps.isnull().all():\n",
    "                continue\n",
    "                \n",
    "            # Find the maximum temperature and its year\n",
    "            max_temp = float(day_temps.max(skipna=True))\n",
    "            max_idx = day_temps.argmax(skipna=True)\n",
    "            max_year = float(day_years[max_idx])\n",
    "            \n",
    "            # Store the results\n",
    "            warm_season_records.year_of_max_temp[lat_idx, lon_idx, day_idx] = max_year\n",
    "            warm_season_records.max_temp[lat_idx, lon_idx, day_idx] = max_temp\n",
    "\n",
    "print(\"\\nData structure created!\")\n",
    "print(warm_season_records)\n",
    "\n",
    "# Save warm_season_records to a global variable to ensure it's available in the next cell\n",
    "# globals()['warm_season_records'] = warm_season_records\n"
   ]
  },
  {
   "cell_type": "code",
   "execution_count": 5,
   "id": "99c7a267",
   "metadata": {
    "execution": {
     "iopub.execute_input": "2025-08-09T20:59:41.272554Z",
     "iopub.status.busy": "2025-08-09T20:59:41.272435Z",
     "iopub.status.idle": "2025-08-09T21:00:42.690217Z",
     "shell.execute_reply": "2025-08-09T21:00:42.689868Z"
    }
   },
   "outputs": [
    {
     "name": "stdout",
     "output_type": "stream",
     "text": [
      "Loading TMIN data...\n",
      "\n",
      "Cold season spans 123 days from Nov 1 to Apr 30\n",
      "\n",
      "Processing each grid point for cold season records...\n",
      "Processing latitude 1/13\n"
     ]
    },
    {
     "name": "stdout",
     "output_type": "stream",
     "text": [
      "Processing latitude 4/13\n"
     ]
    },
    {
     "name": "stdout",
     "output_type": "stream",
     "text": [
      "Processing latitude 7/13\n"
     ]
    },
    {
     "name": "stdout",
     "output_type": "stream",
     "text": [
      "Processing latitude 10/13\n"
     ]
    },
    {
     "name": "stdout",
     "output_type": "stream",
     "text": [
      "Processing latitude 13/13\n"
     ]
    },
    {
     "name": "stdout",
     "output_type": "stream",
     "text": [
      "\n",
      "Data structure created!\n",
      "<xarray.Dataset> Size: 768kB\n",
      "Dimensions:           (latitude: 13, longitude: 30, day: 123)\n",
      "Coordinates:\n",
      "  * latitude          (latitude) float32 52B 24.5 26.5 28.5 ... 44.5 46.5 48.5\n",
      "  * longitude         (longitude) float32 120B -124.5 -122.5 ... -68.5 -66.5\n",
      "  * day               (day) int32 492B 1 2 3 4 5 6 7 ... 361 362 363 364 365 366\n",
      "Data variables:\n",
      "    year_of_min_temp  (latitude, longitude, day) float64 384kB nan ... 1.996e+03\n",
      "    min_temp          (latitude, longitude, day) float64 384kB nan ... -16.81\n"
     ]
    }
   ],
   "source": [
    "# Load TMIN data\n",
    "print(\"Loading TMIN data...\")\n",
    "ds_min = xr.open_dataset(file_path_cold)\n",
    "\n",
    "# Create a mask for the cold season dates (Dec 1 to March 31)\n",
    "dates_min = pd.to_datetime(ds_min.time.values)\n",
    "cold_season_mask = ((dates_min.month >= 12) | (dates_min.month <= 3))\n",
    "\n",
    "# Get the day of year for each date in cold season\n",
    "days_in_cold_season = dates_min[cold_season_mask].dayofyear\n",
    "unique_cold_days = np.sort(np.unique(days_in_cold_season))\n",
    "print(f\"\\nCold season spans {len(unique_cold_days)} days from Nov 1 to Apr 30\")\n",
    "\n",
    "# Create a new dataset to store the years of minimum temperature\n",
    "cold_season_records = xr.Dataset(\n",
    "    {\n",
    "        'year_of_min_temp': (('latitude', 'longitude', 'day'), \n",
    "                            np.full((len(ds_min.latitude), len(ds_min.longitude), len(unique_cold_days)), np.nan)),\n",
    "        'min_temp': (('latitude', 'longitude', 'day'), \n",
    "                    np.full((len(ds_min.latitude), len(ds_min.longitude), len(unique_cold_days)), np.nan))\n",
    "    },\n",
    "    coords={\n",
    "        'latitude': ds_min.latitude,\n",
    "        'longitude': ds_min.longitude,\n",
    "        'day': unique_cold_days\n",
    "    }\n",
    ")\n",
    "\n",
    "print(\"\\nProcessing each grid point for cold season records...\")\n",
    "# For each grid point\n",
    "for lat_idx in range(len(ds_min.latitude)):\n",
    "    if lat_idx % 3 == 0:  # Progress indicator\n",
    "        print(f\"Processing latitude {lat_idx+1}/{len(ds_min.latitude)}\")\n",
    "        \n",
    "    for lon_idx in range(len(ds_min.longitude)):\n",
    "        # Get temperature series for this location\n",
    "        temp_series = ds_min.temperature.isel(latitude=lat_idx, longitude=lon_idx)\n",
    "        year_series = ds_min.year.isel(latitude=lat_idx, longitude=lon_idx)\n",
    "        \n",
    "        # Skip if no valid data\n",
    "        if temp_series.isnull().all():\n",
    "            continue\n",
    "            \n",
    "        # For each day in the cold season\n",
    "        for day_idx, day in enumerate(unique_cold_days):\n",
    "            # Get all temperatures for this day of year\n",
    "            day_mask = (dates_min.dayofyear == day) & cold_season_mask\n",
    "            day_temps = temp_series[day_mask]\n",
    "            day_years = year_series[day_mask]\n",
    "            \n",
    "            # Skip if no valid data for this day\n",
    "            if day_temps.isnull().all():\n",
    "                continue\n",
    "                \n",
    "            # Find the minimum temperature and its year\n",
    "            min_temp = float(day_temps.min(skipna=True))\n",
    "            min_idx = day_temps.argmin(skipna=True)\n",
    "            min_year = float(day_years[min_idx])\n",
    "            \n",
    "            # Store the results\n",
    "            cold_season_records.year_of_min_temp[lat_idx, lon_idx, day_idx] = min_year\n",
    "            cold_season_records.min_temp[lat_idx, lon_idx, day_idx] = min_temp\n",
    "\n",
    "print(\"\\nData structure created!\")\n",
    "print(cold_season_records)\n",
    "\n",
    "# Save to global variable\n",
    "# globals()['cold_season_records'] = cold_season_records\n"
   ]
  },
  {
   "cell_type": "code",
   "execution_count": 6,
   "id": "f69405e2",
   "metadata": {
    "execution": {
     "iopub.execute_input": "2025-08-09T21:00:42.691921Z",
     "iopub.status.busy": "2025-08-09T21:00:42.691799Z",
     "iopub.status.idle": "2025-08-09T21:00:43.152073Z",
     "shell.execute_reply": "2025-08-09T21:00:43.151798Z"
    }
   },
   "outputs": [
    {
     "name": "stdout",
     "output_type": "stream",
     "text": [
      "Creating combined analysis of temperature records...\n",
      "Valid stations: Warm season=281, Cold season=281\n"
     ]
    },
    {
     "data": {
      "image/png": "[encoded data removed]",
      "text/plain": [
       "<Figure size 1200x800 with 1 Axes>"
      ]
     },
     "metadata": {},
     "output_type": "display_data"
    },
    {
     "name": "stdout",
     "output_type": "stream",
     "text": [
      "\n",
      "Record Statistics:\n",
      "Total grid points: 390\n",
      "Valid grid points: 281\n",
      "\n",
      "Warm Season (May-Sep) High Temperature Records:\n",
      "Total records: 43274\n",
      "Average records per station: 154.0\n",
      "\n",
      "Cold Season (Nov-Apr) Low Temperature Records:\n",
      "Total records: 34563\n",
      "Average records per station: 123.0\n",
      "\n",
      "Top 5 years for high temperature records:\n",
      "2023: 5.75 records per station\n",
      "1936: 5.68 records per station\n",
      "1934: 4.05 records per station\n",
      "2020: 3.56 records per station\n",
      "1931: 3.29 records per station\n",
      "\n",
      "Top 5 years for low temperature records:\n",
      "1936: 3.27 records per station\n",
      "1989: 3.19 records per station\n",
      "1932: 3.12 records per station\n",
      "1917: 2.97 records per station\n",
      "1983: 2.63 records per station\n"
     ]
    }
   ],
   "source": [
    "# Create DOE-style figure combining warm season highs and cold season lows\n",
    "print(\"Creating combined analysis of temperature records...\")\n",
    "\n",
    "try:\n",
    "    # Setup year range\n",
    "    years = np.arange(1900, 2025)\n",
    "    high_counts = np.zeros(len(years))\n",
    "    low_counts = np.zeros(len(years))\n",
    "\n",
    "    # Process warm season high temperature records\n",
    "    all_high_years = warm_season_records.year_of_max_temp.values.flatten()\n",
    "    all_high_years = all_high_years[~np.isnan(all_high_years)]\n",
    "\n",
    "    # Process cold season low temperature records\n",
    "    all_low_years = cold_season_records.year_of_min_temp.values.flatten()\n",
    "    all_low_years = all_low_years[~np.isnan(all_low_years)]\n",
    "\n",
    "    # Count records per year\n",
    "    for i, year in enumerate(years):\n",
    "        high_counts[i] = np.sum(all_high_years == year)\n",
    "        low_counts[i] = np.sum(all_low_years == year)\n",
    "\n",
    "    # Calculate records per station\n",
    "    n_stations = len(ds.latitude) * len(ds.longitude)\n",
    "    # Count stations with at least one valid record in either season\n",
    "    valid_stations_warm = np.sum(~np.isnan(warm_season_records.year_of_max_temp).any(dim='day')).values\n",
    "    valid_stations_cold = np.sum(~np.isnan(cold_season_records.year_of_min_temp).any(dim='day')).values\n",
    "    valid_stations = max(valid_stations_warm, valid_stations_cold)  # Use the larger number\n",
    "    \n",
    "    print(f\"Valid stations: Warm season={valid_stations_warm}, Cold season={valid_stations_cold}\")\n",
    "    \n",
    "    # Calculate per-station averages\n",
    "    avg_highs = high_counts / valid_stations\n",
    "    avg_lows = low_counts / valid_stations\n",
    "\n",
    "    # Calculate 15-year running averages (centered)\n",
    "    window_size = 15\n",
    "    smooth_highs = pd.Series(avg_highs).rolling(window=window_size, center=True).mean()\n",
    "    smooth_lows = pd.Series(avg_lows).rolling(window=window_size, center=True).mean()\n",
    "\n",
    "    # Create the plot\n",
    "    plt.figure(figsize=(12, 8))\n",
    "\n",
    "    # Set labels based on region\n",
    "    if region == 'us':\n",
    "        tmax_label = 'US48 Tmax'\n",
    "        tmin_label = 'US48 Tmin'\n",
    "        tmax_avg_label = 'US48 Tmax 15-yr Avg'\n",
    "        tmin_avg_label = 'US48 Tmin 15-yr Avg'\n",
    "        region_description = 'contiguous U.S. states'\n",
    "    else:  # region == 'nh'\n",
    "        tmax_label = 'NH Tmax'\n",
    "        tmin_label = 'NH Tmin'\n",
    "        tmax_avg_label = 'NH Tmax 15-yr Avg'\n",
    "        tmin_avg_label = 'NH Tmin 15-yr Avg'\n",
    "        region_description = 'northern hemisphere mid-latitude'\n",
    "\n",
    "    # Plot annual data as bars\n",
    "    plt.bar(years, avg_highs, width=0.8, color='red', alpha=0.7, \n",
    "            label=tmax_label, edgecolor='darkred', linewidth=0.5)\n",
    "    plt.bar(years, -avg_lows, width=0.8, color='blue', alpha=0.7, \n",
    "            label=tmin_label, edgecolor='darkblue', linewidth=0.5)\n",
    "\n",
    "    # Plot 15-year running averages as lines\n",
    "    plt.plot(years, smooth_highs, color='darkred', linewidth=2, \n",
    "            label=tmax_avg_label)\n",
    "    plt.plot(years, -smooth_lows, color='darkblue', linewidth=2, \n",
    "            label=tmin_avg_label)\n",
    "\n",
    "    # Formatting\n",
    "    plt.xlim(1900, 2025)\n",
    "    \n",
    "    # Calculate y-limits based on data\n",
    "    max_high = max(max(avg_highs), max(smooth_highs.dropna()))\n",
    "    max_low = max(max(avg_lows), max(smooth_lows.dropna()))\n",
    "    y_max = min(8, np.ceil(max_high))\n",
    "    y_min = max(-6, -np.ceil(max_low))\n",
    "    plt.ylim(y_min, y_max)\n",
    "    \n",
    "    plt.grid(True, alpha=0.3)\n",
    "    plt.xlabel('Year', fontsize=12)\n",
    "    plt.ylabel('Per Station Average Daily Records', fontsize=12)\n",
    "    plt.legend(loc='upper left', fontsize=10)\n",
    "\n",
    "    # Set axis ticks\n",
    "    plt.yticks(range(int(y_min), int(y_max) + 1, 2))\n",
    "    plt.xticks(range(1910, 2025, 10))\n",
    "\n",
    "    # Add title based on region\n",
    "    if region == 'us':\n",
    "        title_text = ('Number of daily record High (red) and Low (blue) temperatures\\n' +\n",
    "                     'for warm (May-Sep) and cold (Nov-Apr) seasons in the CONUS\\n' +\n",
    "                     'US48: contiguous U.S. states. Tmax: maximum temperature. Tmin: minimum temperature.')\n",
    "    else:  # region == 'nh'\n",
    "        title_text = ('Number of daily record High (red) and Low (blue) temperatures\\n' +\n",
    "                     'for warm (May-Sep) and cold (Nov-Apr) seasons in the northern hemisphere mid-latitude\\n' +\n",
    "                     'NH: northern hemisphere mid-latitude. Tmax: maximum temperature. Tmin: minimum temperature.')\n",
    "    \n",
    "    plt.title(title_text, fontsize=10, pad=20)\n",
    "\n",
    "    plt.tight_layout()\n",
    "    plt.savefig(f'Figure6.3.3_{region}.png',dpi=300)\n",
    "    plt.show()\n",
    "\n",
    "    # Print statistics\n",
    "    print(\"\\nRecord Statistics:\")\n",
    "    print(f\"Total grid points: {n_stations}\")\n",
    "    print(f\"Valid grid points: {valid_stations}\")\n",
    "    print(f\"\\nWarm Season (May-Sep) High Temperature Records:\")\n",
    "    print(f\"Total records: {len(all_high_years)}\")\n",
    "    print(f\"Average records per station: {len(all_high_years)/valid_stations:.1f}\")\n",
    "    print(f\"\\nCold Season (Nov-Apr) Low Temperature Records:\")\n",
    "    print(f\"Total records: {len(all_low_years)}\")\n",
    "    print(f\"Average records per station: {len(all_low_years)/valid_stations:.1f}\")\n",
    "\n",
    "    # Print top 5 years for each\n",
    "    print(\"\\nTop 5 years for high temperature records:\")\n",
    "    high_top_idx = np.argsort(avg_highs)[-5:][::-1]\n",
    "    for idx in high_top_idx:\n",
    "        print(f\"{years[idx]}: {avg_highs[idx]:.2f} records per station\")\n",
    "\n",
    "    print(\"\\nTop 5 years for low temperature records:\")\n",
    "    low_top_idx = np.argsort(avg_lows)[-5:][::-1]\n",
    "    for idx in low_top_idx:\n",
    "        print(f\"{years[idx]}: {avg_lows[idx]:.2f} records per station\")\n",
    "\n",
    "except Exception as e:\n",
    "    print(f\"Error: {str(e)}\")\n",
    "    print(\"Please make sure to run the previous cells first to create the required datasets.\")"
   ]
  },
  {
   "cell_type": "markdown",
   "id": "99f4c172",
   "metadata": {},
   "source": [
    "## other code"
   ]
  },
  {
   "cell_type": "code",
   "execution_count": 7,
   "id": "5e56f7ae",
   "metadata": {
    "execution": {
     "iopub.execute_input": "2025-08-09T21:00:43.153333Z",
     "iopub.status.busy": "2025-08-09T21:00:43.153251Z",
     "iopub.status.idle": "2025-08-09T21:00:44.194161Z",
     "shell.execute_reply": "2025-08-09T21:00:44.193866Z"
    }
   },
   "outputs": [
    {
     "name": "stdout",
     "output_type": "stream",
     "text": [
      "Analyzing NaN values in temperature data by year...\n"
     ]
    },
    {
     "name": "stdout",
     "output_type": "stream",
     "text": [
      "Year 1900: 1,825 NaNs out of 104,390 values (1.75%)\n",
      "Year 1901: 1,825 NaNs out of 104,390 values (1.75%)\n",
      "Year 1902: 1,825 NaNs out of 104,390 values (1.75%)\n",
      "Year 1903: 1,825 NaNs out of 104,390 values (1.75%)\n",
      "Year 1904: 1,830 NaNs out of 104,676 values (1.75%)\n",
      "Year 1905: 1,825 NaNs out of 104,390 values (1.75%)\n",
      "Year 1906: 1,825 NaNs out of 104,390 values (1.75%)\n",
      "Year 1907: 1,825 NaNs out of 104,390 values (1.75%)\n",
      "Year 1908: 1,830 NaNs out of 104,676 values (1.75%)\n",
      "Year 1909: 1,825 NaNs out of 104,390 values (1.75%)\n",
      "Year 1910: 1,825 NaNs out of 104,390 values (1.75%)\n",
      "Year 1911: 1,825 NaNs out of 104,390 values (1.75%)\n",
      "Year 1912: 1,830 NaNs out of 104,676 values (1.75%)\n",
      "Year 1913: 1,825 NaNs out of 104,390 values (1.75%)\n",
      "Year 1914: 1,825 NaNs out of 104,390 values (1.75%)\n",
      "Year 1915: 1,825 NaNs out of 104,390 values (1.75%)\n",
      "Year 1916: 1,830 NaNs out of 104,676 values (1.75%)\n",
      "Year 1917: 1,825 NaNs out of 104,390 values (1.75%)\n",
      "Year 1918: 1,825 NaNs out of 104,390 values (1.75%)\n",
      "Year 1919: 1,825 NaNs out of 104,390 values (1.75%)\n",
      "Year 1920: 1,830 NaNs out of 104,676 values (1.75%)\n",
      "Year 1921: 1,825 NaNs out of 104,390 values (1.75%)\n",
      "Year 1922: 1,825 NaNs out of 104,390 values (1.75%)\n",
      "Year 1923: 1,825 NaNs out of 104,390 values (1.75%)\n",
      "Year 1924: 1,830 NaNs out of 104,676 values (1.75%)\n",
      "Year 1925: 1,825 NaNs out of 104,390 values (1.75%)\n",
      "Year 1926: 1,825 NaNs out of 104,390 values (1.75%)\n",
      "Year 1927: 1,825 NaNs out of 104,390 values (1.75%)\n",
      "Year 1928: 1,830 NaNs out of 104,676 values (1.75%)\n",
      "Year 1929: 1,825 NaNs out of 104,390 values (1.75%)\n",
      "Year 1930: 1,825 NaNs out of 104,390 values (1.75%)\n",
      "Year 1931: 1,825 NaNs out of 104,390 values (1.75%)\n",
      "Year 1932: 1,830 NaNs out of 104,676 values (1.75%)\n",
      "Year 1933: 1,825 NaNs out of 104,390 values (1.75%)\n",
      "Year 1934: 1,825 NaNs out of 104,390 values (1.75%)\n",
      "Year 1935: 1,825 NaNs out of 104,390 values (1.75%)\n",
      "Year 1936: 1,830 NaNs out of 104,676 values (1.75%)\n",
      "Year 1937: 1,825 NaNs out of 104,390 values (1.75%)\n",
      "Year 1938: 1,825 NaNs out of 104,390 values (1.75%)\n",
      "Year 1939: 1,825 NaNs out of 104,390 values (1.75%)\n",
      "Year 1940: 1,830 NaNs out of 104,676 values (1.75%)\n"
     ]
    },
    {
     "name": "stdout",
     "output_type": "stream",
     "text": [
      "Year 1941: 1,825 NaNs out of 104,390 values (1.75%)\n",
      "Year 1942: 1,825 NaNs out of 104,390 values (1.75%)\n",
      "Year 1943: 1,825 NaNs out of 104,390 values (1.75%)\n",
      "Year 1944: 1,830 NaNs out of 104,676 values (1.75%)\n",
      "Year 1945: 1,825 NaNs out of 104,390 values (1.75%)\n",
      "Year 1946: 1,825 NaNs out of 104,390 values (1.75%)\n",
      "Year 1947: 1,825 NaNs out of 104,390 values (1.75%)\n",
      "Year 1948: 1,830 NaNs out of 104,676 values (1.75%)\n",
      "Year 1949: 1,825 NaNs out of 104,390 values (1.75%)\n",
      "Year 1950: 1,825 NaNs out of 104,390 values (1.75%)\n",
      "Year 1951: 1,825 NaNs out of 104,390 values (1.75%)\n",
      "Year 1952: 1,830 NaNs out of 104,676 values (1.75%)\n",
      "Year 1953: 1,825 NaNs out of 104,390 values (1.75%)\n",
      "Year 1954: 1,825 NaNs out of 104,390 values (1.75%)\n",
      "Year 1955: 1,825 NaNs out of 104,390 values (1.75%)\n",
      "Year 1956: 1,830 NaNs out of 104,676 values (1.75%)\n",
      "Year 1957: 1,825 NaNs out of 104,390 values (1.75%)\n",
      "Year 1958: 1,825 NaNs out of 104,390 values (1.75%)\n",
      "Year 1959: 1,825 NaNs out of 104,390 values (1.75%)\n",
      "Year 1960: 1,830 NaNs out of 104,676 values (1.75%)\n",
      "Year 1961: 1,825 NaNs out of 104,390 values (1.75%)\n",
      "Year 1962: 1,825 NaNs out of 104,390 values (1.75%)\n",
      "Year 1963: 1,825 NaNs out of 104,390 values (1.75%)\n",
      "Year 1964: 1,830 NaNs out of 104,676 values (1.75%)\n",
      "Year 1965: 1,825 NaNs out of 104,390 values (1.75%)\n",
      "Year 1966: 1,825 NaNs out of 104,390 values (1.75%)\n",
      "Year 1967: 1,825 NaNs out of 104,390 values (1.75%)\n",
      "Year 1968: 1,830 NaNs out of 104,676 values (1.75%)\n",
      "Year 1969: 1,825 NaNs out of 104,390 values (1.75%)\n",
      "Year 1970: 1,825 NaNs out of 104,390 values (1.75%)\n",
      "Year 1971: 1,825 NaNs out of 104,390 values (1.75%)\n",
      "Year 1972: 1,830 NaNs out of 104,676 values (1.75%)\n",
      "Year 1973: 1,825 NaNs out of 104,390 values (1.75%)\n",
      "Year 1974: 1,825 NaNs out of 104,390 values (1.75%)\n",
      "Year 1975: 1,825 NaNs out of 104,390 values (1.75%)\n",
      "Year 1976: 1,830 NaNs out of 104,676 values (1.75%)\n",
      "Year 1977: 1,825 NaNs out of 104,390 values (1.75%)\n",
      "Year 1978: 1,825 NaNs out of 104,390 values (1.75%)\n",
      "Year 1979: 1,825 NaNs out of 104,390 values (1.75%)\n"
     ]
    },
    {
     "name": "stdout",
     "output_type": "stream",
     "text": [
      "Year 1980: 1,830 NaNs out of 104,676 values (1.75%)\n",
      "Year 1981: 1,825 NaNs out of 104,390 values (1.75%)\n",
      "Year 1982: 1,825 NaNs out of 104,390 values (1.75%)\n",
      "Year 1983: 1,825 NaNs out of 104,390 values (1.75%)\n",
      "Year 1984: 1,830 NaNs out of 104,676 values (1.75%)\n",
      "Year 1985: 1,825 NaNs out of 104,390 values (1.75%)\n",
      "Year 1986: 1,825 NaNs out of 104,390 values (1.75%)\n",
      "Year 1987: 1,825 NaNs out of 104,390 values (1.75%)\n",
      "Year 1988: 1,830 NaNs out of 104,676 values (1.75%)\n",
      "Year 1989: 1,825 NaNs out of 104,390 values (1.75%)\n",
      "Year 1990: 1,825 NaNs out of 104,390 values (1.75%)\n",
      "Year 1991: 1,825 NaNs out of 104,390 values (1.75%)\n",
      "Year 1992: 1,830 NaNs out of 104,676 values (1.75%)\n",
      "Year 1993: 1,825 NaNs out of 104,390 values (1.75%)\n",
      "Year 1994: 1,825 NaNs out of 104,390 values (1.75%)\n",
      "Year 1995: 1,825 NaNs out of 104,390 values (1.75%)\n",
      "Year 1996: 1,830 NaNs out of 104,676 values (1.75%)\n",
      "Year 1997: 1,825 NaNs out of 104,390 values (1.75%)\n",
      "Year 1998: 1,825 NaNs out of 104,390 values (1.75%)\n",
      "Year 1999: 1,825 NaNs out of 104,390 values (1.75%)\n",
      "Year 2000: 1,830 NaNs out of 104,676 values (1.75%)\n",
      "Year 2001: 1,825 NaNs out of 104,390 values (1.75%)\n",
      "Year 2002: 1,825 NaNs out of 104,390 values (1.75%)\n",
      "Year 2003: 1,825 NaNs out of 104,390 values (1.75%)\n",
      "Year 2004: 1,830 NaNs out of 104,676 values (1.75%)\n",
      "Year 2005: 1,825 NaNs out of 104,390 values (1.75%)\n",
      "Year 2006: 1,825 NaNs out of 104,390 values (1.75%)\n",
      "Year 2007: 1,825 NaNs out of 104,390 values (1.75%)\n",
      "Year 2008: 1,830 NaNs out of 104,676 values (1.75%)\n",
      "Year 2009: 1,825 NaNs out of 104,390 values (1.75%)\n",
      "Year 2010: 1,825 NaNs out of 104,390 values (1.75%)\n",
      "Year 2011: 1,825 NaNs out of 104,390 values (1.75%)\n",
      "Year 2012: 1,830 NaNs out of 104,676 values (1.75%)\n",
      "Year 2013: 1,825 NaNs out of 104,390 values (1.75%)\n",
      "Year 2014: 1,825 NaNs out of 104,390 values (1.75%)\n",
      "Year 2015: 1,825 NaNs out of 104,390 values (1.75%)\n",
      "Year 2016: 1,830 NaNs out of 104,676 values (1.75%)\n",
      "Year 2017: 1,825 NaNs out of 104,390 values (1.75%)\n",
      "Year 2018: 1,825 NaNs out of 104,390 values (1.75%)\n",
      "Year 2019: 1,825 NaNs out of 104,390 values (1.75%)\n"
     ]
    },
    {
     "name": "stdout",
     "output_type": "stream",
     "text": [
      "Year 2020: 1,830 NaNs out of 104,676 values (1.75%)\n",
      "Year 2021: 1,825 NaNs out of 104,390 values (1.75%)\n",
      "Year 2022: 1,825 NaNs out of 104,390 values (1.75%)\n",
      "Year 2023: 1,825 NaNs out of 104,390 values (1.75%)\n",
      "Year 2024: 1,220 NaNs out of 69,784 values (1.75%)\n",
      "\n",
      "Overall statistics:\n",
      "Total NaNs: 4,963,206 out of 17,758,260 values (27.95%)\n"
     ]
    }
   ],
   "source": [
    "# Check average number of NaNs in temperature data for each year\n",
    "# This tells you whether the missing data is changing over time\n",
    "print(\"Analyzing NaN values in temperature data by year...\")\n",
    "\n",
    "years = ds.year.values\n",
    "temp_data = ds.temperature.values\n",
    "\n",
    "for year in np.unique(years[~np.isnan(years)]):\n",
    "    # Get mask for this year\n",
    "    year_mask = years == year\n",
    "    \n",
    "    # Get temperature data for this year\n",
    "    year_temp = temp_data[year_mask]\n",
    "    \n",
    "    # Count NaNs for this year\n",
    "    nan_count = np.isnan(year_temp).sum()\n",
    "    total_values = year_temp.size\n",
    "    \n",
    "    # Calculate average NaNs (as percentage)\n",
    "    avg_nan_percent = (nan_count / total_values) * 100\n",
    "    \n",
    "    print(f\"Year {int(year)}: {nan_count:,} NaNs out of {total_values:,} values ({avg_nan_percent:.2f}%)\")\n",
    "\n",
    "print(\"\\nOverall statistics:\")\n",
    "total_nans = np.isnan(temp_data).sum()\n",
    "total_values = temp_data.size\n",
    "overall_nan_percent = (total_nans / total_values) * 100\n",
    "print(f\"Total NaNs: {total_nans:,} out of {total_values:,} values ({overall_nan_percent:.2f}%)\")\n"
   ]
  }
 ],
 "metadata": {
  "kernelspec": {
   "display_name": "base",
   "language": "python",
   "name": "python3"
  },
  "language_info": {
   "codemirror_mode": {
    "name": "ipython",
    "version": 3
   },
   "file_extension": ".py",
   "mimetype": "text/x-python",
   "name": "python",
   "nbconvert_exporter": "python",
   "pygments_lexer": "ipython3",
   "version": "3.12.2"
  }
 },
 "nbformat": 4,
 "nbformat_minor": 5
}
